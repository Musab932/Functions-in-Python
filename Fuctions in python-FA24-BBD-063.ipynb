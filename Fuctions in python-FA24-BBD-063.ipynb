{
 "cells": [
  {
   "cell_type": "markdown",
   "id": "0e175a51",
   "metadata": {},
   "source": [
    "### MUHAMMAD MUSAB\n",
    "### fa24-bbd-063"
   ]
  },
  {
   "cell_type": "code",
   "execution_count": 1,
   "id": "b966bc98",
   "metadata": {},
   "outputs": [
    {
     "name": "stdout",
     "output_type": "stream",
     "text": [
      "Hello, musab! The current time is 19:35.\n"
     ]
    }
   ],
   "source": [
    "#QUESTION 1\n",
    "import time\n",
    "\n",
    "def greet_with_time(name):\n",
    "    current_time = time.strftime(\"%H:%M\")\n",
    "    print(f\"Hello, {name}! The current time is {current_time}.\")\n",
    "\n",
    "greet_with_time(\"musab\")"
   ]
  },
  {
   "cell_type": "code",
   "execution_count": 2,
   "id": "1ec633b9",
   "metadata": {},
   "outputs": [
    {
     "name": "stdout",
     "output_type": "stream",
     "text": [
      "The average is: 26.666666666666668\n"
     ]
    }
   ],
   "source": [
    "#QUESTION 2\n",
    "def calculate_average(num1, num2, num3):\n",
    "    return (num1 + num2 + num3) / 3\n",
    "average = calculate_average(10, 40, 30)\n",
    "print(f\"The average is: {average}\")"
   ]
  },
  {
   "cell_type": "code",
   "execution_count": 3,
   "id": "3540b9fc",
   "metadata": {},
   "outputs": [
    {
     "name": "stdout",
     "output_type": "stream",
     "text": [
      "Discounted price: 90.0\n",
      "Discounted price with custom discount: 80.0\n"
     ]
    }
   ],
   "source": [
    "#QUESTION 3\n",
    "def calculate_discount(price, discount_percentage=10):\n",
    "    return price - (price * discount_percentage / 100)\n",
    "discounted_price = calculate_discount(100)\n",
    "print(f\"Discounted price: {discounted_price}\")\n",
    "\n",
    "discounted_price_with_custom_discount = calculate_discount(100, 20)\n",
    "print(f\"Discounted price with custom discount: {discounted_price_with_custom_discount}\")\n"
   ]
  },
  {
   "cell_type": "code",
   "execution_count": 5,
   "id": "dbba6b0e",
   "metadata": {},
   "outputs": [
    {
     "name": "stdout",
     "output_type": "stream",
     "text": [
      "Name: musab\n",
      "Age: 18\n",
      "City: lahore\n"
     ]
    }
   ],
   "source": [
    "#QUESTION 4\n",
    "def print_info(*, name, age, city):\n",
    "    print(f\"Name: {name}\")\n",
    "    print(f\"Age: {age}\")\n",
    "    print(f\"City: {city}\")\n",
    "print_info(name=\"musab\", age=18, city=\"lahore\")\n"
   ]
  },
  {
   "cell_type": "code",
   "execution_count": 7,
   "id": "1668073d",
   "metadata": {},
   "outputs": [
    {
     "name": "stdout",
     "output_type": "stream",
     "text": [
      "The maximum value is: 10\n"
     ]
    }
   ],
   "source": [
    "#QUESTION 5\n",
    "def find_max(*args):\n",
    "    return max(args)\n",
    "maximum = find_max(3, 10, 9, 2, 8)\n",
    "print(f\"The maximum value is: {maximum}\")\n"
   ]
  },
  {
   "cell_type": "code",
   "execution_count": 8,
   "id": "40e84c59",
   "metadata": {},
   "outputs": [
    {
     "name": "stdout",
     "output_type": "stream",
     "text": [
      "The factorial of 6 is: 720\n"
     ]
    }
   ],
   "source": [
    "#QUESTION 6\n",
    "def factorial(n):\n",
    "    if n == 0 or n == 1:\n",
    "        return 1\n",
    "    return n * factorial(n - 1)\n",
    "result = factorial(6)\n",
    "print(f\"The factorial of 6 is: {result}\")\n"
   ]
  },
  {
   "cell_type": "code",
   "execution_count": 9,
   "id": "29deaed0",
   "metadata": {},
   "outputs": [
    {
     "name": "stdout",
     "output_type": "stream",
     "text": [
      "Result: [1, 4, 9, 16, 25]\n"
     ]
    }
   ],
   "source": [
    "#QUESTION 7\n",
    "def apply_function(func, numbers):\n",
    "    return [func(num) for num in numbers]\n",
    "def square(x):\n",
    "    return x ** 2\n",
    "\n",
    "result = apply_function(square, [1, 2, 3, 4, 5])\n",
    "print(f\"Result: {result}\")\n"
   ]
  },
  {
   "cell_type": "code",
   "execution_count": 11,
   "id": "aceeeba1",
   "metadata": {},
   "outputs": [
    {
     "name": "stdout",
     "output_type": "stream",
     "text": [
      "The square of 6 is: 36\n"
     ]
    }
   ],
   "source": [
    "#QUESTION 8\n",
    "square = lambda x: x ** 2\n",
    "result = square(6)\n",
    "print(f\"The square of 6 is: {result}\")\n"
   ]
  },
  {
   "cell_type": "code",
   "execution_count": 12,
   "id": "defdf0cf",
   "metadata": {},
   "outputs": [
    {
     "name": "stdout",
     "output_type": "stream",
     "text": [
      "Result: [2, 4, 6, 8, 10]\n"
     ]
    }
   ],
   "source": [
    "#QUESTION 9\n",
    "def apply_operation(func, numbers):\n",
    "    return [func(num) for num in numbers]\n",
    "def double(x):\n",
    "    return x * 2\n",
    "\n",
    "result = apply_operation(double, [1, 2, 3, 4, 5])\n",
    "print(f\"Result: {result}\")\n"
   ]
  },
  {
   "cell_type": "code",
   "execution_count": 13,
   "id": "157fe410",
   "metadata": {},
   "outputs": [
    {
     "name": "stdout",
     "output_type": "stream",
     "text": [
      "Execution time of example_function: 0.114895 seconds\n",
      "Result: 27377883000\n"
     ]
    }
   ],
   "source": [
    "#Question:10\n",
    "import time\n",
    "def time_it(func):\n",
    "    def wrapper(*args, **kwargs):\n",
    "        start_time = time.time() \n",
    "        result = func(*args, **kwargs)  \n",
    "        end_time = time.time()  \n",
    "        execution_time = end_time - start_time  \n",
    "        print(f\"Execution time of {func.__name__}: {execution_time:.6f} seconds\")\n",
    "        return result  \n",
    "    return wrapper\n",
    "\n",
    "@time_it\n",
    "def example_function(n):\n",
    "    total = 0\n",
    "    for i in range(n):\n",
    "        total += i\n",
    "    return total\n",
    "\n",
    "\n",
    "result = example_function(234000)\n",
    "print(f\"Result: {result}\")"
   ]
  }
 ],
 "metadata": {
  "kernelspec": {
   "display_name": "base",
   "language": "python",
   "name": "python3"
  },
  "language_info": {
   "codemirror_mode": {
    "name": "ipython",
    "version": 3
   },
   "file_extension": ".py",
   "mimetype": "text/x-python",
   "name": "python",
   "nbconvert_exporter": "python",
   "pygments_lexer": "ipython3",
   "version": "3.12.4"
  }
 },
 "nbformat": 4,
 "nbformat_minor": 5
}
